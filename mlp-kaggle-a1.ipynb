{
 "cells": [
  {
   "cell_type": "code",
   "execution_count": 1,
   "id": "11586d82",
   "metadata": {
    "_cell_guid": "b1076dfc-b9ad-4769-8c92-a6c4dae69d19",
    "_uuid": "8f2839f25d086af736a60e9eeb907d3b93b6e0e5",
    "execution": {
     "iopub.execute_input": "2025-07-01T13:31:26.811711Z",
     "iopub.status.busy": "2025-07-01T13:31:26.811399Z",
     "iopub.status.idle": "2025-07-01T13:31:30.352849Z",
     "shell.execute_reply": "2025-07-01T13:31:30.351863Z"
    },
    "papermill": {
     "duration": 3.551742,
     "end_time": "2025-07-01T13:31:30.354564",
     "exception": false,
     "start_time": "2025-07-01T13:31:26.802822",
     "status": "completed"
    },
    "tags": []
   },
   "outputs": [],
   "source": [
    "import numpy as np\n",
    "import pandas as pd\n",
    "import seaborn as sns\n",
    "import matplotlib.pyplot as plt"
   ]
  },
  {
   "cell_type": "code",
   "execution_count": 2,
   "id": "556c4ea9",
   "metadata": {
    "execution": {
     "iopub.execute_input": "2025-07-01T13:31:30.369009Z",
     "iopub.status.busy": "2025-07-01T13:31:30.368563Z",
     "iopub.status.idle": "2025-07-01T13:31:30.373118Z",
     "shell.execute_reply": "2025-07-01T13:31:30.372176Z"
    },
    "papermill": {
     "duration": 0.013399,
     "end_time": "2025-07-01T13:31:30.374670",
     "exception": false,
     "start_time": "2025-07-01T13:31:30.361271",
     "status": "completed"
    },
    "tags": []
   },
   "outputs": [],
   "source": [
    "import warnings\n",
    "warnings.filterwarnings(\"ignore\")"
   ]
  },
  {
   "cell_type": "markdown",
   "id": "94eac1ba",
   "metadata": {
    "papermill": {
     "duration": 0.00591,
     "end_time": "2025-07-01T13:31:30.387062",
     "exception": false,
     "start_time": "2025-07-01T13:31:30.381152",
     "status": "completed"
    },
    "tags": []
   },
   "source": [
    "## Load the dataset"
   ]
  },
  {
   "cell_type": "code",
   "execution_count": 3,
   "id": "f9ad2db6",
   "metadata": {
    "execution": {
     "iopub.execute_input": "2025-07-01T13:31:30.401140Z",
     "iopub.status.busy": "2025-07-01T13:31:30.400858Z",
     "iopub.status.idle": "2025-07-01T13:31:30.562960Z",
     "shell.execute_reply": "2025-07-01T13:31:30.561896Z"
    },
    "papermill": {
     "duration": 0.171097,
     "end_time": "2025-07-01T13:31:30.564552",
     "exception": false,
     "start_time": "2025-07-01T13:31:30.393455",
     "status": "completed"
    },
    "tags": []
   },
   "outputs": [],
   "source": [
    "# load dataset\n",
    "\n",
    "train=pd.read_csv(\"/kaggle/input/mlp-term-2-2025-kaggle-assignment-1/train.csv\")\n",
    "test=pd.read_csv(\"/kaggle/input/mlp-term-2-2025-kaggle-assignment-1/test.csv\")\n",
    "ss=pd.read_csv(\"/kaggle/input/mlp-term-2-2025-kaggle-assignment-1/sample_submission.csv\")"
   ]
  },
  {
   "cell_type": "markdown",
   "id": "622f46c0",
   "metadata": {
    "papermill": {
     "duration": 0.006009,
     "end_time": "2025-07-01T13:31:30.577065",
     "exception": false,
     "start_time": "2025-07-01T13:31:30.571056",
     "status": "completed"
    },
    "tags": []
   },
   "source": [
    "## Find more information about the training dataset"
   ]
  },
  {
   "cell_type": "code",
   "execution_count": 4,
   "id": "36eac4d6",
   "metadata": {
    "execution": {
     "iopub.execute_input": "2025-07-01T13:31:30.591469Z",
     "iopub.status.busy": "2025-07-01T13:31:30.590911Z",
     "iopub.status.idle": "2025-07-01T13:31:30.596947Z",
     "shell.execute_reply": "2025-07-01T13:31:30.596245Z"
    },
    "papermill": {
     "duration": 0.014373,
     "end_time": "2025-07-01T13:31:30.598122",
     "exception": false,
     "start_time": "2025-07-01T13:31:30.583749",
     "status": "completed"
    },
    "tags": []
   },
   "outputs": [
    {
     "data": {
      "text/plain": [
       "(40000, 12)"
      ]
     },
     "execution_count": 4,
     "metadata": {},
     "output_type": "execute_result"
    }
   ],
   "source": [
    "train.shape"
   ]
  },
  {
   "cell_type": "code",
   "execution_count": 5,
   "id": "a584d719",
   "metadata": {
    "execution": {
     "iopub.execute_input": "2025-07-01T13:31:30.612136Z",
     "iopub.status.busy": "2025-07-01T13:31:30.611850Z",
     "iopub.status.idle": "2025-07-01T13:31:30.643539Z",
     "shell.execute_reply": "2025-07-01T13:31:30.642626Z"
    },
    "papermill": {
     "duration": 0.040439,
     "end_time": "2025-07-01T13:31:30.644953",
     "exception": false,
     "start_time": "2025-07-01T13:31:30.604514",
     "status": "completed"
    },
    "tags": []
   },
   "outputs": [
    {
     "data": {
      "text/html": [
       "<div>\n",
       "<style scoped>\n",
       "    .dataframe tbody tr th:only-of-type {\n",
       "        vertical-align: middle;\n",
       "    }\n",
       "\n",
       "    .dataframe tbody tr th {\n",
       "        vertical-align: top;\n",
       "    }\n",
       "\n",
       "    .dataframe thead th {\n",
       "        text-align: right;\n",
       "    }\n",
       "</style>\n",
       "<table border=\"1\" class=\"dataframe\">\n",
       "  <thead>\n",
       "    <tr style=\"text-align: right;\">\n",
       "      <th></th>\n",
       "      <th>id</th>\n",
       "      <th>airline</th>\n",
       "      <th>flight</th>\n",
       "      <th>source</th>\n",
       "      <th>departure</th>\n",
       "      <th>stops</th>\n",
       "      <th>arrival</th>\n",
       "      <th>destination</th>\n",
       "      <th>class</th>\n",
       "      <th>duration</th>\n",
       "      <th>days_left</th>\n",
       "      <th>price</th>\n",
       "    </tr>\n",
       "  </thead>\n",
       "  <tbody>\n",
       "    <tr>\n",
       "      <th>0</th>\n",
       "      <td>0</td>\n",
       "      <td>Vistara</td>\n",
       "      <td>UK-930</td>\n",
       "      <td>Mumbai</td>\n",
       "      <td>Early_Morning</td>\n",
       "      <td>one</td>\n",
       "      <td>Night</td>\n",
       "      <td>Chennai</td>\n",
       "      <td>Business</td>\n",
       "      <td>NaN</td>\n",
       "      <td>40.0</td>\n",
       "      <td>64173</td>\n",
       "    </tr>\n",
       "    <tr>\n",
       "      <th>1</th>\n",
       "      <td>1</td>\n",
       "      <td>Air_India</td>\n",
       "      <td>AI-539</td>\n",
       "      <td>Chennai</td>\n",
       "      <td>Evening</td>\n",
       "      <td>one</td>\n",
       "      <td>Morning</td>\n",
       "      <td>Mumbai</td>\n",
       "      <td>Economy</td>\n",
       "      <td>16.08</td>\n",
       "      <td>26.0</td>\n",
       "      <td>4357</td>\n",
       "    </tr>\n",
       "    <tr>\n",
       "      <th>2</th>\n",
       "      <td>2</td>\n",
       "      <td>SpiceJet</td>\n",
       "      <td>SG-8107</td>\n",
       "      <td>Delhi</td>\n",
       "      <td>Early_Morning</td>\n",
       "      <td>zero</td>\n",
       "      <td>Morning</td>\n",
       "      <td>Chennai</td>\n",
       "      <td>Economy</td>\n",
       "      <td>2.92</td>\n",
       "      <td>25.0</td>\n",
       "      <td>3251</td>\n",
       "    </tr>\n",
       "    <tr>\n",
       "      <th>3</th>\n",
       "      <td>3</td>\n",
       "      <td>NaN</td>\n",
       "      <td>0.00E+00</td>\n",
       "      <td>Hyderabad</td>\n",
       "      <td>Early_Morning</td>\n",
       "      <td>zero</td>\n",
       "      <td>Morning</td>\n",
       "      <td>Bangalore</td>\n",
       "      <td>Economy</td>\n",
       "      <td>1.50</td>\n",
       "      <td>22.0</td>\n",
       "      <td>1776</td>\n",
       "    </tr>\n",
       "    <tr>\n",
       "      <th>4</th>\n",
       "      <td>4</td>\n",
       "      <td>Air_India</td>\n",
       "      <td>AI-569</td>\n",
       "      <td>Chennai</td>\n",
       "      <td>Early_Morning</td>\n",
       "      <td>one</td>\n",
       "      <td>Morning</td>\n",
       "      <td>Bangalore</td>\n",
       "      <td>Economy</td>\n",
       "      <td>4.83</td>\n",
       "      <td>20.0</td>\n",
       "      <td>3584</td>\n",
       "    </tr>\n",
       "  </tbody>\n",
       "</table>\n",
       "</div>"
      ],
      "text/plain": [
       "   id    airline    flight     source      departure stops  arrival  \\\n",
       "0   0    Vistara    UK-930     Mumbai  Early_Morning   one    Night   \n",
       "1   1  Air_India    AI-539    Chennai        Evening   one  Morning   \n",
       "2   2   SpiceJet   SG-8107      Delhi  Early_Morning  zero  Morning   \n",
       "3   3        NaN  0.00E+00  Hyderabad  Early_Morning  zero  Morning   \n",
       "4   4  Air_India    AI-569    Chennai  Early_Morning   one  Morning   \n",
       "\n",
       "  destination     class  duration  days_left  price  \n",
       "0     Chennai  Business       NaN       40.0  64173  \n",
       "1      Mumbai   Economy     16.08       26.0   4357  \n",
       "2     Chennai   Economy      2.92       25.0   3251  \n",
       "3   Bangalore   Economy      1.50       22.0   1776  \n",
       "4   Bangalore   Economy      4.83       20.0   3584  "
      ]
     },
     "execution_count": 5,
     "metadata": {},
     "output_type": "execute_result"
    }
   ],
   "source": [
    "train.head()"
   ]
  },
  {
   "cell_type": "code",
   "execution_count": 6,
   "id": "7d2b1ef5",
   "metadata": {
    "execution": {
     "iopub.execute_input": "2025-07-01T13:31:30.672165Z",
     "iopub.status.busy": "2025-07-01T13:31:30.670591Z",
     "iopub.status.idle": "2025-07-01T13:31:30.715707Z",
     "shell.execute_reply": "2025-07-01T13:31:30.714721Z"
    },
    "papermill": {
     "duration": 0.058758,
     "end_time": "2025-07-01T13:31:30.717236",
     "exception": false,
     "start_time": "2025-07-01T13:31:30.658478",
     "status": "completed"
    },
    "tags": []
   },
   "outputs": [
    {
     "name": "stdout",
     "output_type": "stream",
     "text": [
      "<class 'pandas.core.frame.DataFrame'>\n",
      "RangeIndex: 40000 entries, 0 to 39999\n",
      "Data columns (total 12 columns):\n",
      " #   Column       Non-Null Count  Dtype  \n",
      "---  ------       --------------  -----  \n",
      " 0   id           40000 non-null  int64  \n",
      " 1   airline      35387 non-null  object \n",
      " 2   flight       40000 non-null  object \n",
      " 3   source       40000 non-null  object \n",
      " 4   departure    35208 non-null  object \n",
      " 5   stops        37681 non-null  object \n",
      " 6   arrival      40000 non-null  object \n",
      " 7   destination  40000 non-null  object \n",
      " 8   class        40000 non-null  object \n",
      " 9   duration     36987 non-null  float64\n",
      " 10  days_left    35562 non-null  float64\n",
      " 11  price        40000 non-null  int64  \n",
      "dtypes: float64(2), int64(2), object(8)\n",
      "memory usage: 3.7+ MB\n"
     ]
    }
   ],
   "source": [
    "train.info()"
   ]
  },
  {
   "cell_type": "markdown",
   "id": "61d73a39",
   "metadata": {
    "papermill": {
     "duration": 0.006616,
     "end_time": "2025-07-01T13:31:30.730718",
     "exception": false,
     "start_time": "2025-07-01T13:31:30.724102",
     "status": "completed"
    },
    "tags": []
   },
   "source": [
    "## Describing Numeric Values"
   ]
  },
  {
   "cell_type": "code",
   "execution_count": 7,
   "id": "e745045b",
   "metadata": {
    "execution": {
     "iopub.execute_input": "2025-07-01T13:31:30.745376Z",
     "iopub.status.busy": "2025-07-01T13:31:30.745032Z",
     "iopub.status.idle": "2025-07-01T13:31:30.771593Z",
     "shell.execute_reply": "2025-07-01T13:31:30.770388Z"
    },
    "papermill": {
     "duration": 0.035713,
     "end_time": "2025-07-01T13:31:30.773171",
     "exception": false,
     "start_time": "2025-07-01T13:31:30.737458",
     "status": "completed"
    },
    "tags": []
   },
   "outputs": [
    {
     "data": {
      "text/html": [
       "<div>\n",
       "<style scoped>\n",
       "    .dataframe tbody tr th:only-of-type {\n",
       "        vertical-align: middle;\n",
       "    }\n",
       "\n",
       "    .dataframe tbody tr th {\n",
       "        vertical-align: top;\n",
       "    }\n",
       "\n",
       "    .dataframe thead th {\n",
       "        text-align: right;\n",
       "    }\n",
       "</style>\n",
       "<table border=\"1\" class=\"dataframe\">\n",
       "  <thead>\n",
       "    <tr style=\"text-align: right;\">\n",
       "      <th></th>\n",
       "      <th>id</th>\n",
       "      <th>duration</th>\n",
       "      <th>days_left</th>\n",
       "      <th>price</th>\n",
       "    </tr>\n",
       "  </thead>\n",
       "  <tbody>\n",
       "    <tr>\n",
       "      <th>count</th>\n",
       "      <td>40000.00000</td>\n",
       "      <td>36987.000000</td>\n",
       "      <td>35562.000000</td>\n",
       "      <td>40000.00000</td>\n",
       "    </tr>\n",
       "    <tr>\n",
       "      <th>mean</th>\n",
       "      <td>19999.50000</td>\n",
       "      <td>12.004088</td>\n",
       "      <td>26.197936</td>\n",
       "      <td>20801.49025</td>\n",
       "    </tr>\n",
       "    <tr>\n",
       "      <th>std</th>\n",
       "      <td>11547.14972</td>\n",
       "      <td>7.108063</td>\n",
       "      <td>13.469232</td>\n",
       "      <td>22729.14842</td>\n",
       "    </tr>\n",
       "    <tr>\n",
       "      <th>min</th>\n",
       "      <td>0.00000</td>\n",
       "      <td>0.830000</td>\n",
       "      <td>1.000000</td>\n",
       "      <td>1105.00000</td>\n",
       "    </tr>\n",
       "    <tr>\n",
       "      <th>25%</th>\n",
       "      <td>9999.75000</td>\n",
       "      <td>6.670000</td>\n",
       "      <td>15.000000</td>\n",
       "      <td>4687.00000</td>\n",
       "    </tr>\n",
       "    <tr>\n",
       "      <th>50%</th>\n",
       "      <td>19999.50000</td>\n",
       "      <td>11.080000</td>\n",
       "      <td>26.000000</td>\n",
       "      <td>7353.00000</td>\n",
       "    </tr>\n",
       "    <tr>\n",
       "      <th>75%</th>\n",
       "      <td>29999.25000</td>\n",
       "      <td>15.920000</td>\n",
       "      <td>38.000000</td>\n",
       "      <td>42521.00000</td>\n",
       "    </tr>\n",
       "    <tr>\n",
       "      <th>max</th>\n",
       "      <td>39999.00000</td>\n",
       "      <td>47.080000</td>\n",
       "      <td>49.000000</td>\n",
       "      <td>114704.00000</td>\n",
       "    </tr>\n",
       "  </tbody>\n",
       "</table>\n",
       "</div>"
      ],
      "text/plain": [
       "                id      duration     days_left         price\n",
       "count  40000.00000  36987.000000  35562.000000   40000.00000\n",
       "mean   19999.50000     12.004088     26.197936   20801.49025\n",
       "std    11547.14972      7.108063     13.469232   22729.14842\n",
       "min        0.00000      0.830000      1.000000    1105.00000\n",
       "25%     9999.75000      6.670000     15.000000    4687.00000\n",
       "50%    19999.50000     11.080000     26.000000    7353.00000\n",
       "75%    29999.25000     15.920000     38.000000   42521.00000\n",
       "max    39999.00000     47.080000     49.000000  114704.00000"
      ]
     },
     "execution_count": 7,
     "metadata": {},
     "output_type": "execute_result"
    }
   ],
   "source": [
    "train.describe(include=[np.number])"
   ]
  },
  {
   "cell_type": "code",
   "execution_count": 8,
   "id": "e32b7e97",
   "metadata": {
    "execution": {
     "iopub.execute_input": "2025-07-01T13:31:30.788372Z",
     "iopub.status.busy": "2025-07-01T13:31:30.788022Z",
     "iopub.status.idle": "2025-07-01T13:31:30.804451Z",
     "shell.execute_reply": "2025-07-01T13:31:30.803591Z"
    },
    "papermill": {
     "duration": 0.02568,
     "end_time": "2025-07-01T13:31:30.806037",
     "exception": false,
     "start_time": "2025-07-01T13:31:30.780357",
     "status": "completed"
    },
    "tags": []
   },
   "outputs": [
    {
     "data": {
      "text/html": [
       "<div>\n",
       "<style scoped>\n",
       "    .dataframe tbody tr th:only-of-type {\n",
       "        vertical-align: middle;\n",
       "    }\n",
       "\n",
       "    .dataframe tbody tr th {\n",
       "        vertical-align: top;\n",
       "    }\n",
       "\n",
       "    .dataframe thead th {\n",
       "        text-align: right;\n",
       "    }\n",
       "</style>\n",
       "<table border=\"1\" class=\"dataframe\">\n",
       "  <thead>\n",
       "    <tr style=\"text-align: right;\">\n",
       "      <th></th>\n",
       "      <th>id</th>\n",
       "      <th>duration</th>\n",
       "      <th>days_left</th>\n",
       "    </tr>\n",
       "  </thead>\n",
       "  <tbody>\n",
       "    <tr>\n",
       "      <th>count</th>\n",
       "      <td>10000.00000</td>\n",
       "      <td>9418.000000</td>\n",
       "      <td>9304.000000</td>\n",
       "    </tr>\n",
       "    <tr>\n",
       "      <th>mean</th>\n",
       "      <td>4999.50000</td>\n",
       "      <td>12.005125</td>\n",
       "      <td>26.163156</td>\n",
       "    </tr>\n",
       "    <tr>\n",
       "      <th>std</th>\n",
       "      <td>2886.89568</td>\n",
       "      <td>7.086652</td>\n",
       "      <td>13.453717</td>\n",
       "    </tr>\n",
       "    <tr>\n",
       "      <th>min</th>\n",
       "      <td>0.00000</td>\n",
       "      <td>0.920000</td>\n",
       "      <td>1.000000</td>\n",
       "    </tr>\n",
       "    <tr>\n",
       "      <th>25%</th>\n",
       "      <td>2499.75000</td>\n",
       "      <td>6.670000</td>\n",
       "      <td>15.000000</td>\n",
       "    </tr>\n",
       "    <tr>\n",
       "      <th>50%</th>\n",
       "      <td>4999.50000</td>\n",
       "      <td>11.170000</td>\n",
       "      <td>26.000000</td>\n",
       "    </tr>\n",
       "    <tr>\n",
       "      <th>75%</th>\n",
       "      <td>7499.25000</td>\n",
       "      <td>15.920000</td>\n",
       "      <td>38.000000</td>\n",
       "    </tr>\n",
       "    <tr>\n",
       "      <th>max</th>\n",
       "      <td>9999.00000</td>\n",
       "      <td>40.420000</td>\n",
       "      <td>49.000000</td>\n",
       "    </tr>\n",
       "  </tbody>\n",
       "</table>\n",
       "</div>"
      ],
      "text/plain": [
       "                id     duration    days_left\n",
       "count  10000.00000  9418.000000  9304.000000\n",
       "mean    4999.50000    12.005125    26.163156\n",
       "std     2886.89568     7.086652    13.453717\n",
       "min        0.00000     0.920000     1.000000\n",
       "25%     2499.75000     6.670000    15.000000\n",
       "50%     4999.50000    11.170000    26.000000\n",
       "75%     7499.25000    15.920000    38.000000\n",
       "max     9999.00000    40.420000    49.000000"
      ]
     },
     "execution_count": 8,
     "metadata": {},
     "output_type": "execute_result"
    }
   ],
   "source": [
    "test.describe(include=[np.number])"
   ]
  },
  {
   "cell_type": "markdown",
   "id": "09d9aa77",
   "metadata": {
    "papermill": {
     "duration": 0.011039,
     "end_time": "2025-07-01T13:31:30.827116",
     "exception": false,
     "start_time": "2025-07-01T13:31:30.816077",
     "status": "completed"
    },
    "tags": []
   },
   "source": [
    "## Identifying & Handling missing values"
   ]
  },
  {
   "cell_type": "code",
   "execution_count": 9,
   "id": "115b4498",
   "metadata": {
    "execution": {
     "iopub.execute_input": "2025-07-01T13:31:30.849211Z",
     "iopub.status.busy": "2025-07-01T13:31:30.848888Z",
     "iopub.status.idle": "2025-07-01T13:31:30.875030Z",
     "shell.execute_reply": "2025-07-01T13:31:30.874140Z"
    },
    "papermill": {
     "duration": 0.041623,
     "end_time": "2025-07-01T13:31:30.876472",
     "exception": false,
     "start_time": "2025-07-01T13:31:30.834849",
     "status": "completed"
    },
    "tags": []
   },
   "outputs": [
    {
     "data": {
      "text/plain": [
       "id                0\n",
       "airline        4613\n",
       "flight            0\n",
       "source            0\n",
       "departure      4792\n",
       "stops          2319\n",
       "arrival           0\n",
       "destination       0\n",
       "class             0\n",
       "duration       3013\n",
       "days_left      4438\n",
       "price             0\n",
       "dtype: int64"
      ]
     },
     "execution_count": 9,
     "metadata": {},
     "output_type": "execute_result"
    }
   ],
   "source": [
    "train.isna().sum()"
   ]
  },
  {
   "cell_type": "code",
   "execution_count": 10,
   "id": "4ad91ace",
   "metadata": {
    "execution": {
     "iopub.execute_input": "2025-07-01T13:31:30.892273Z",
     "iopub.status.busy": "2025-07-01T13:31:30.891978Z",
     "iopub.status.idle": "2025-07-01T13:31:30.949892Z",
     "shell.execute_reply": "2025-07-01T13:31:30.949017Z"
    },
    "papermill": {
     "duration": 0.067743,
     "end_time": "2025-07-01T13:31:30.951569",
     "exception": false,
     "start_time": "2025-07-01T13:31:30.883826",
     "status": "completed"
    },
    "tags": []
   },
   "outputs": [],
   "source": [
    "train['duration'] = train['duration'].fillna(train['duration'].median())\n",
    "train['days_left'] = train['days_left'].fillna(train['days_left'].median())\n",
    "train['stops'] = train['stops'].fillna(train['stops'].mode()[0])\n",
    "train['airline'] = train['airline'].fillna('Uknown_Airline')\n",
    "\n",
    "def _fill_group_mode(series, global_mode):\n",
    "    mode = series.mode()\n",
    "    return series.fillna(mode.iloc[0] if not mode.empty else global_mode)\n",
    "\n",
    "global_dep_mode = train['departure'].mode()[0]\n",
    "\n",
    "train['departure'] = (train\n",
    "    .groupby(['airline', 'source'])['departure']\n",
    "    .transform(_fill_group_mode, global_mode=global_dep_mode))"
   ]
  },
  {
   "cell_type": "code",
   "execution_count": 11,
   "id": "6b5feebc",
   "metadata": {
    "execution": {
     "iopub.execute_input": "2025-07-01T13:31:30.967127Z",
     "iopub.status.busy": "2025-07-01T13:31:30.966829Z",
     "iopub.status.idle": "2025-07-01T13:31:30.979048Z",
     "shell.execute_reply": "2025-07-01T13:31:30.978001Z"
    },
    "papermill": {
     "duration": 0.021854,
     "end_time": "2025-07-01T13:31:30.980639",
     "exception": false,
     "start_time": "2025-07-01T13:31:30.958785",
     "status": "completed"
    },
    "tags": []
   },
   "outputs": [
    {
     "data": {
      "text/plain": [
       "id               0\n",
       "airline        548\n",
       "flight           0\n",
       "source           0\n",
       "departure      920\n",
       "stops          651\n",
       "arrival          0\n",
       "destination      0\n",
       "class            0\n",
       "duration       582\n",
       "days_left      696\n",
       "dtype: int64"
      ]
     },
     "execution_count": 11,
     "metadata": {},
     "output_type": "execute_result"
    }
   ],
   "source": [
    "test.isna().sum()"
   ]
  },
  {
   "cell_type": "code",
   "execution_count": 12,
   "id": "73e3c236",
   "metadata": {
    "execution": {
     "iopub.execute_input": "2025-07-01T13:31:30.996334Z",
     "iopub.status.busy": "2025-07-01T13:31:30.995997Z",
     "iopub.status.idle": "2025-07-01T13:31:31.029689Z",
     "shell.execute_reply": "2025-07-01T13:31:31.028759Z"
    },
    "papermill": {
     "duration": 0.043445,
     "end_time": "2025-07-01T13:31:31.031350",
     "exception": false,
     "start_time": "2025-07-01T13:31:30.987905",
     "status": "completed"
    },
    "tags": []
   },
   "outputs": [],
   "source": [
    "test['duration'] = test['duration'].fillna(test['duration'].median())\n",
    "test['days_left'] = test['days_left'].fillna(test['days_left'].median())\n",
    "test['airline'] = test['airline'].fillna('Uknown_Airline')\n",
    "test['stops'] = test['stops'].fillna(test['stops'].mode()[0])\n",
    "\n",
    "def _fill_group_mode(series, global_mode):\n",
    "    mode = series.mode()\n",
    "    return series.fillna(mode.iloc[0] if not mode.empty else global_mode)\n",
    "\n",
    "global_dep_mode = test['departure'].mode()[0]\n",
    "\n",
    "test['departure'] = (test\n",
    "    .groupby(['airline', 'source'])['departure']\n",
    "    .transform(_fill_group_mode, global_mode=global_dep_mode))"
   ]
  },
  {
   "cell_type": "code",
   "execution_count": 13,
   "id": "3338b81a",
   "metadata": {
    "execution": {
     "iopub.execute_input": "2025-07-01T13:31:31.047804Z",
     "iopub.status.busy": "2025-07-01T13:31:31.047449Z",
     "iopub.status.idle": "2025-07-01T13:31:31.076533Z",
     "shell.execute_reply": "2025-07-01T13:31:31.075479Z"
    },
    "papermill": {
     "duration": 0.038773,
     "end_time": "2025-07-01T13:31:31.078031",
     "exception": false,
     "start_time": "2025-07-01T13:31:31.039258",
     "status": "completed"
    },
    "tags": []
   },
   "outputs": [
    {
     "name": "stdout",
     "output_type": "stream",
     "text": [
      "Number of missing values in train: 0 and number of missing values in test: 0\n"
     ]
    }
   ],
   "source": [
    "print(f\"Number of missing values in train: {train.isna().sum().sum()} and number of missing values in test: {test.isna().sum().sum()}\")"
   ]
  },
  {
   "cell_type": "markdown",
   "id": "f37fad5c",
   "metadata": {
    "papermill": {
     "duration": 0.007191,
     "end_time": "2025-07-01T13:31:31.092804",
     "exception": false,
     "start_time": "2025-07-01T13:31:31.085613",
     "status": "completed"
    },
    "tags": []
   },
   "source": [
    "## Identifying and Handling duplicate values"
   ]
  },
  {
   "cell_type": "code",
   "execution_count": 14,
   "id": "efd417fc",
   "metadata": {
    "execution": {
     "iopub.execute_input": "2025-07-01T13:31:31.109698Z",
     "iopub.status.busy": "2025-07-01T13:31:31.108820Z",
     "iopub.status.idle": "2025-07-01T13:31:31.141713Z",
     "shell.execute_reply": "2025-07-01T13:31:31.140456Z"
    },
    "papermill": {
     "duration": 0.043343,
     "end_time": "2025-07-01T13:31:31.144032",
     "exception": false,
     "start_time": "2025-07-01T13:31:31.100689",
     "status": "completed"
    },
    "tags": []
   },
   "outputs": [
    {
     "data": {
      "text/plain": [
       "0"
      ]
     },
     "execution_count": 14,
     "metadata": {},
     "output_type": "execute_result"
    }
   ],
   "source": [
    "train.duplicated().sum()"
   ]
  },
  {
   "cell_type": "markdown",
   "id": "37b98e64",
   "metadata": {
    "papermill": {
     "duration": 0.007513,
     "end_time": "2025-07-01T13:31:31.162093",
     "exception": false,
     "start_time": "2025-07-01T13:31:31.154580",
     "status": "completed"
    },
    "tags": []
   },
   "source": [
    "Since there are no duplicates we won't perform any actions"
   ]
  },
  {
   "cell_type": "markdown",
   "id": "723175c1",
   "metadata": {
    "papermill": {
     "duration": 0.007228,
     "end_time": "2025-07-01T13:31:31.176739",
     "exception": false,
     "start_time": "2025-07-01T13:31:31.169511",
     "status": "completed"
    },
    "tags": []
   },
   "source": [
    "## Finding outliers"
   ]
  },
  {
   "cell_type": "code",
   "execution_count": 15,
   "id": "a7395826",
   "metadata": {
    "execution": {
     "iopub.execute_input": "2025-07-01T13:31:31.194659Z",
     "iopub.status.busy": "2025-07-01T13:31:31.193709Z",
     "iopub.status.idle": "2025-07-01T13:31:31.371555Z",
     "shell.execute_reply": "2025-07-01T13:31:31.370692Z"
    },
    "papermill": {
     "duration": 0.187724,
     "end_time": "2025-07-01T13:31:31.373072",
     "exception": false,
     "start_time": "2025-07-01T13:31:31.185348",
     "status": "completed"
    },
    "tags": []
   },
   "outputs": [
    {
     "data": {
      "image/png": "[encoded data removed]",
      "text/plain": [
       "<Figure size 640x480 with 1 Axes>"
      ]
     },
     "metadata": {},
     "output_type": "display_data"
    }
   ],
   "source": [
    "sns.boxplot(x=train['price'])\n",
    "plt.show()"
   ]
  },
  {
   "cell_type": "markdown",
   "id": "50f63ddb",
   "metadata": {
    "papermill": {
     "duration": 0.007186,
     "end_time": "2025-07-01T13:31:31.387915",
     "exception": false,
     "start_time": "2025-07-01T13:31:31.380729",
     "status": "completed"
    },
    "tags": []
   },
   "source": [
    "# Data visualization"
   ]
  },
  {
   "cell_type": "markdown",
   "id": "96b96b98",
   "metadata": {
    "papermill": {
     "duration": 0.007179,
     "end_time": "2025-07-01T13:31:31.402371",
     "exception": false,
     "start_time": "2025-07-01T13:31:31.395192",
     "status": "completed"
    },
    "tags": []
   },
   "source": [
    "I've choosen three diff types\n",
    "\n",
    "1. Scatter Plot\n",
    "2. ECDF\n",
    "3. Heat-Map\n"
   ]
  },
  {
   "cell_type": "code",
   "execution_count": 16,
   "id": "61cdadbe",
   "metadata": {
    "execution": {
     "iopub.execute_input": "2025-07-01T13:31:31.419090Z",
     "iopub.status.busy": "2025-07-01T13:31:31.418268Z",
     "iopub.status.idle": "2025-07-01T13:31:31.438129Z",
     "shell.execute_reply": "2025-07-01T13:31:31.437230Z"
    },
    "papermill": {
     "duration": 0.029956,
     "end_time": "2025-07-01T13:31:31.439855",
     "exception": false,
     "start_time": "2025-07-01T13:31:31.409899",
     "status": "completed"
    },
    "tags": []
   },
   "outputs": [],
   "source": [
    "vis_df = train.copy()"
   ]
  },
  {
   "cell_type": "code",
   "execution_count": 17,
   "id": "ca622eec",
   "metadata": {
    "execution": {
     "iopub.execute_input": "2025-07-01T13:31:31.456190Z",
     "iopub.status.busy": "2025-07-01T13:31:31.455918Z",
     "iopub.status.idle": "2025-07-01T13:31:31.731710Z",
     "shell.execute_reply": "2025-07-01T13:31:31.730783Z"
    },
    "papermill": {
     "duration": 0.286247,
     "end_time": "2025-07-01T13:31:31.733665",
     "exception": false,
     "start_time": "2025-07-01T13:31:31.447418",
     "status": "completed"
    },
    "tags": []
   },
   "outputs": [
    {
     "data": {
      "image/png": "[encoded data removed]",
      "text/plain": [
       "<Figure size 600x300 with 1 Axes>"
      ]
     },
     "metadata": {},
     "output_type": "display_data"
    }
   ],
   "source": [
    "# Scatter plot\n",
    "\n",
    "plt.figure(figsize=(6,3))\n",
    "plt.scatter(vis_df['days_left'], vis_df['price'],\n",
    "            s=12, alpha=0.3, marker='o')\n",
    "plt.xlabel('Days left')\n",
    "plt.ylabel('Price')\n",
    "plt.title('Days left vs Price (train only)')\n",
    "plt.tight_layout()\n",
    "plt.show()"
   ]
  },
  {
   "cell_type": "code",
   "execution_count": 18,
   "id": "35587961",
   "metadata": {
    "execution": {
     "iopub.execute_input": "2025-07-01T13:31:31.755604Z",
     "iopub.status.busy": "2025-07-01T13:31:31.755240Z",
     "iopub.status.idle": "2025-07-01T13:31:32.272177Z",
     "shell.execute_reply": "2025-07-01T13:31:32.271267Z"
    },
    "papermill": {
     "duration": 0.529635,
     "end_time": "2025-07-01T13:31:32.273732",
     "exception": false,
     "start_time": "2025-07-01T13:31:31.744097",
     "status": "completed"
    },
    "tags": []
   },
   "outputs": [
    {
     "data": {
      "image/png": "[encoded data removed]",
      "text/plain": [
       "<Figure size 600x300 with 1 Axes>"
      ]
     },
     "metadata": {},
     "output_type": "display_data"
    }
   ],
   "source": [
    "# ECDF\n",
    "plt.figure(figsize=(6, 3))\n",
    "for cls in vis_df['class'].unique():\n",
    "    prices = np.sort(vis_df.loc[vis_df['class'] == cls, 'price'].dropna().values)\n",
    "    yvals  = np.arange(1, len(prices) + 1) / float(len(prices))\n",
    "    plt.step(prices, yvals, where='post', label=str(cls))\n",
    "plt.xscale('log')\n",
    "plt.xlabel('Price (log scale)')\n",
    "plt.ylabel('Cumulative probability')\n",
    "plt.title('ECDF of Price by Class')\n",
    "plt.legend(title='Class')\n",
    "plt.tight_layout()\n",
    "plt.show()\n"
   ]
  },
  {
   "cell_type": "code",
   "execution_count": 19,
   "id": "e6a2668e",
   "metadata": {
    "execution": {
     "iopub.execute_input": "2025-07-01T13:31:32.296954Z",
     "iopub.status.busy": "2025-07-01T13:31:32.296630Z",
     "iopub.status.idle": "2025-07-01T13:31:32.573635Z",
     "shell.execute_reply": "2025-07-01T13:31:32.572722Z"
    },
    "papermill": {
     "duration": 0.290247,
     "end_time": "2025-07-01T13:31:32.575123",
     "exception": false,
     "start_time": "2025-07-01T13:31:32.284876",
     "status": "completed"
    },
    "tags": []
   },
   "outputs": [
    {
     "data": {
      "image/png": "[encoded data removed]",
      "text/plain": [
       "<Figure size 800x300 with 2 Axes>"
      ]
     },
     "metadata": {},
     "output_type": "display_data"
    }
   ],
   "source": [
    "bins   = [0, 3, 7, 14, 30, 60, 90, 365]\n",
    "labels = ['0-3', '4-7', '8-14', '15-30', '31-60', '61-90', '90+']\n",
    "vis_df['days_bin'] = pd.cut(vis_df['days_left'], bins=bins,\n",
    "                        labels=labels, include_lowest=True)\n",
    "\n",
    "pivot = (vis_df.dropna(subset=['departure', 'days_bin', 'price'])\n",
    "           .pivot_table(index='departure',\n",
    "                        columns='days_bin',\n",
    "                        values='price',\n",
    "                        aggfunc='median'))\n",
    "\n",
    "plt.figure(figsize=(8, 3))\n",
    "plt.imshow(pivot, aspect='auto', origin='lower')\n",
    "plt.colorbar(label='Median price')\n",
    "plt.xticks(range(len(pivot.columns)), pivot.columns, rotation=45)\n",
    "plt.yticks(range(len(pivot.index)),   pivot.index)\n",
    "plt.xlabel('Days-left bucket')\n",
    "plt.ylabel('Departure bucket')\n",
    "plt.title('Median Price by Days-left & Departure Bucket')\n",
    "plt.tight_layout()\n",
    "plt.show()"
   ]
  },
  {
   "cell_type": "markdown",
   "id": "83612495",
   "metadata": {
    "papermill": {
     "duration": 0.076708,
     "end_time": "2025-07-01T13:31:32.664291",
     "exception": false,
     "start_time": "2025-07-01T13:31:32.587583",
     "status": "completed"
    },
    "tags": []
   },
   "source": [
    "# Scaling and Encoding"
   ]
  },
  {
   "cell_type": "code",
   "execution_count": 20,
   "id": "ae12c657",
   "metadata": {
    "execution": {
     "iopub.execute_input": "2025-07-01T13:31:32.689435Z",
     "iopub.status.busy": "2025-07-01T13:31:32.689066Z",
     "iopub.status.idle": "2025-07-01T13:31:32.716653Z",
     "shell.execute_reply": "2025-07-01T13:31:32.715323Z"
    },
    "papermill": {
     "duration": 0.041947,
     "end_time": "2025-07-01T13:31:32.718183",
     "exception": false,
     "start_time": "2025-07-01T13:31:32.676236",
     "status": "completed"
    },
    "tags": []
   },
   "outputs": [
    {
     "name": "stdout",
     "output_type": "stream",
     "text": [
      "<class 'pandas.core.frame.DataFrame'>\n",
      "RangeIndex: 40000 entries, 0 to 39999\n",
      "Data columns (total 12 columns):\n",
      " #   Column       Non-Null Count  Dtype  \n",
      "---  ------       --------------  -----  \n",
      " 0   id           40000 non-null  int64  \n",
      " 1   airline      40000 non-null  object \n",
      " 2   flight       40000 non-null  object \n",
      " 3   source       40000 non-null  object \n",
      " 4   departure    40000 non-null  object \n",
      " 5   stops        40000 non-null  object \n",
      " 6   arrival      40000 non-null  object \n",
      " 7   destination  40000 non-null  object \n",
      " 8   class        40000 non-null  object \n",
      " 9   duration     40000 non-null  float64\n",
      " 10  days_left    40000 non-null  float64\n",
      " 11  price        40000 non-null  int64  \n",
      "dtypes: float64(2), int64(2), object(8)\n",
      "memory usage: 3.7+ MB\n"
     ]
    }
   ],
   "source": [
    "train.info()"
   ]
  },
  {
   "cell_type": "code",
   "execution_count": 21,
   "id": "3ca9d185",
   "metadata": {
    "execution": {
     "iopub.execute_input": "2025-07-01T13:31:32.744826Z",
     "iopub.status.busy": "2025-07-01T13:31:32.744007Z",
     "iopub.status.idle": "2025-07-01T13:31:32.757736Z",
     "shell.execute_reply": "2025-07-01T13:31:32.756826Z"
    },
    "papermill": {
     "duration": 0.028537,
     "end_time": "2025-07-01T13:31:32.759216",
     "exception": false,
     "start_time": "2025-07-01T13:31:32.730679",
     "status": "completed"
    },
    "tags": []
   },
   "outputs": [
    {
     "data": {
      "text/html": [
       "<div>\n",
       "<style scoped>\n",
       "    .dataframe tbody tr th:only-of-type {\n",
       "        vertical-align: middle;\n",
       "    }\n",
       "\n",
       "    .dataframe tbody tr th {\n",
       "        vertical-align: top;\n",
       "    }\n",
       "\n",
       "    .dataframe thead th {\n",
       "        text-align: right;\n",
       "    }\n",
       "</style>\n",
       "<table border=\"1\" class=\"dataframe\">\n",
       "  <thead>\n",
       "    <tr style=\"text-align: right;\">\n",
       "      <th></th>\n",
       "      <th>id</th>\n",
       "      <th>airline</th>\n",
       "      <th>flight</th>\n",
       "      <th>source</th>\n",
       "      <th>departure</th>\n",
       "      <th>stops</th>\n",
       "      <th>arrival</th>\n",
       "      <th>destination</th>\n",
       "      <th>class</th>\n",
       "      <th>duration</th>\n",
       "      <th>days_left</th>\n",
       "      <th>price</th>\n",
       "    </tr>\n",
       "  </thead>\n",
       "  <tbody>\n",
       "    <tr>\n",
       "      <th>0</th>\n",
       "      <td>0</td>\n",
       "      <td>Vistara</td>\n",
       "      <td>UK-930</td>\n",
       "      <td>Mumbai</td>\n",
       "      <td>Early_Morning</td>\n",
       "      <td>one</td>\n",
       "      <td>Night</td>\n",
       "      <td>Chennai</td>\n",
       "      <td>Business</td>\n",
       "      <td>11.08</td>\n",
       "      <td>40.0</td>\n",
       "      <td>64173</td>\n",
       "    </tr>\n",
       "    <tr>\n",
       "      <th>1</th>\n",
       "      <td>1</td>\n",
       "      <td>Air_India</td>\n",
       "      <td>AI-539</td>\n",
       "      <td>Chennai</td>\n",
       "      <td>Evening</td>\n",
       "      <td>one</td>\n",
       "      <td>Morning</td>\n",
       "      <td>Mumbai</td>\n",
       "      <td>Economy</td>\n",
       "      <td>16.08</td>\n",
       "      <td>26.0</td>\n",
       "      <td>4357</td>\n",
       "    </tr>\n",
       "    <tr>\n",
       "      <th>2</th>\n",
       "      <td>2</td>\n",
       "      <td>SpiceJet</td>\n",
       "      <td>SG-8107</td>\n",
       "      <td>Delhi</td>\n",
       "      <td>Early_Morning</td>\n",
       "      <td>zero</td>\n",
       "      <td>Morning</td>\n",
       "      <td>Chennai</td>\n",
       "      <td>Economy</td>\n",
       "      <td>2.92</td>\n",
       "      <td>25.0</td>\n",
       "      <td>3251</td>\n",
       "    </tr>\n",
       "    <tr>\n",
       "      <th>3</th>\n",
       "      <td>3</td>\n",
       "      <td>Uknown_Airline</td>\n",
       "      <td>0.00E+00</td>\n",
       "      <td>Hyderabad</td>\n",
       "      <td>Early_Morning</td>\n",
       "      <td>zero</td>\n",
       "      <td>Morning</td>\n",
       "      <td>Bangalore</td>\n",
       "      <td>Economy</td>\n",
       "      <td>1.50</td>\n",
       "      <td>22.0</td>\n",
       "      <td>1776</td>\n",
       "    </tr>\n",
       "    <tr>\n",
       "      <th>4</th>\n",
       "      <td>4</td>\n",
       "      <td>Air_India</td>\n",
       "      <td>AI-569</td>\n",
       "      <td>Chennai</td>\n",
       "      <td>Early_Morning</td>\n",
       "      <td>one</td>\n",
       "      <td>Morning</td>\n",
       "      <td>Bangalore</td>\n",
       "      <td>Economy</td>\n",
       "      <td>4.83</td>\n",
       "      <td>20.0</td>\n",
       "      <td>3584</td>\n",
       "    </tr>\n",
       "  </tbody>\n",
       "</table>\n",
       "</div>"
      ],
      "text/plain": [
       "   id         airline    flight     source      departure stops  arrival  \\\n",
       "0   0         Vistara    UK-930     Mumbai  Early_Morning   one    Night   \n",
       "1   1       Air_India    AI-539    Chennai        Evening   one  Morning   \n",
       "2   2        SpiceJet   SG-8107      Delhi  Early_Morning  zero  Morning   \n",
       "3   3  Uknown_Airline  0.00E+00  Hyderabad  Early_Morning  zero  Morning   \n",
       "4   4       Air_India    AI-569    Chennai  Early_Morning   one  Morning   \n",
       "\n",
       "  destination     class  duration  days_left  price  \n",
       "0     Chennai  Business     11.08       40.0  64173  \n",
       "1      Mumbai   Economy     16.08       26.0   4357  \n",
       "2     Chennai   Economy      2.92       25.0   3251  \n",
       "3   Bangalore   Economy      1.50       22.0   1776  \n",
       "4   Bangalore   Economy      4.83       20.0   3584  "
      ]
     },
     "execution_count": 21,
     "metadata": {},
     "output_type": "execute_result"
    }
   ],
   "source": [
    "train.head()"
   ]
  },
  {
   "cell_type": "code",
   "execution_count": 22,
   "id": "a0588212",
   "metadata": {
    "execution": {
     "iopub.execute_input": "2025-07-01T13:31:32.787231Z",
     "iopub.status.busy": "2025-07-01T13:31:32.786201Z",
     "iopub.status.idle": "2025-07-01T13:31:32.816780Z",
     "shell.execute_reply": "2025-07-01T13:31:32.815777Z"
    },
    "papermill": {
     "duration": 0.046251,
     "end_time": "2025-07-01T13:31:32.818503",
     "exception": false,
     "start_time": "2025-07-01T13:31:32.772252",
     "status": "completed"
    },
    "tags": []
   },
   "outputs": [],
   "source": [
    "cat_cols = ['airline','flight','source','departure',\n",
    "            'arrival','destination','class']      # keep stops separate\n",
    "train[cat_cols] = train[cat_cols].astype('category')\n"
   ]
  },
  {
   "cell_type": "code",
   "execution_count": 23,
   "id": "3df618db",
   "metadata": {
    "execution": {
     "iopub.execute_input": "2025-07-01T13:31:32.844726Z",
     "iopub.status.busy": "2025-07-01T13:31:32.844418Z",
     "iopub.status.idle": "2025-07-01T13:31:32.859364Z",
     "shell.execute_reply": "2025-07-01T13:31:32.858441Z"
    },
    "papermill": {
     "duration": 0.029803,
     "end_time": "2025-07-01T13:31:32.861017",
     "exception": false,
     "start_time": "2025-07-01T13:31:32.831214",
     "status": "completed"
    },
    "tags": []
   },
   "outputs": [
    {
     "name": "stdout",
     "output_type": "stream",
     "text": [
      "<class 'pandas.core.frame.DataFrame'>\n",
      "RangeIndex: 40000 entries, 0 to 39999\n",
      "Data columns (total 12 columns):\n",
      " #   Column       Non-Null Count  Dtype   \n",
      "---  ------       --------------  -----   \n",
      " 0   id           40000 non-null  int64   \n",
      " 1   airline      40000 non-null  category\n",
      " 2   flight       40000 non-null  category\n",
      " 3   source       40000 non-null  category\n",
      " 4   departure    40000 non-null  category\n",
      " 5   stops        40000 non-null  object  \n",
      " 6   arrival      40000 non-null  category\n",
      " 7   destination  40000 non-null  category\n",
      " 8   class        40000 non-null  category\n",
      " 9   duration     40000 non-null  float64 \n",
      " 10  days_left    40000 non-null  float64 \n",
      " 11  price        40000 non-null  int64   \n",
      "dtypes: category(7), float64(2), int64(2), object(1)\n",
      "memory usage: 1.9+ MB\n"
     ]
    }
   ],
   "source": [
    "train.info()"
   ]
  },
  {
   "cell_type": "code",
   "execution_count": 24,
   "id": "f2e68d2d",
   "metadata": {
    "execution": {
     "iopub.execute_input": "2025-07-01T13:31:32.888272Z",
     "iopub.status.busy": "2025-07-01T13:31:32.887973Z",
     "iopub.status.idle": "2025-07-01T13:31:33.172524Z",
     "shell.execute_reply": "2025-07-01T13:31:33.171659Z"
    },
    "papermill": {
     "duration": 0.29976,
     "end_time": "2025-07-01T13:31:33.174167",
     "exception": false,
     "start_time": "2025-07-01T13:31:32.874407",
     "status": "completed"
    },
    "tags": []
   },
   "outputs": [],
   "source": [
    "from sklearn.model_selection import train_test_split\n",
    "\n",
    "X_full = train.drop(columns=['price', 'id'])\n",
    "y_full = train['price']\n",
    "\n",
    "X_train, X_val, y_train, y_val = train_test_split(\n",
    "    X_full, y_full, test_size=0.2, random_state=42\n",
    ")\n",
    "\n",
    "X_test = test.drop(columns=['id']) "
   ]
  },
  {
   "cell_type": "code",
   "execution_count": 25,
   "id": "2907098b",
   "metadata": {
    "execution": {
     "iopub.execute_input": "2025-07-01T13:31:33.200961Z",
     "iopub.status.busy": "2025-07-01T13:31:33.200584Z",
     "iopub.status.idle": "2025-07-01T13:31:34.001813Z",
     "shell.execute_reply": "2025-07-01T13:31:34.000808Z"
    },
    "papermill": {
     "duration": 0.816221,
     "end_time": "2025-07-01T13:31:34.003336",
     "exception": false,
     "start_time": "2025-07-01T13:31:33.187115",
     "status": "completed"
    },
    "tags": []
   },
   "outputs": [
    {
     "data": {
      "text/html": [
       "<style>#sk-container-id-1 {color: black;background-color: white;}#sk-container-id-1 pre{padding: 0;}#sk-container-id-1 div.sk-toggleable {background-color: white;}#sk-container-id-1 label.sk-toggleable__label {cursor: pointer;display: block;width: 100%;margin-bottom: 0;padding: 0.3em;box-sizing: border-box;text-align: center;}#sk-container-id-1 label.sk-toggleable__label-arrow:before {content: \"▸\";float: left;margin-right: 0.25em;color: #696969;}#sk-container-id-1 label.sk-toggleable__label-arrow:hover:before {color: black;}#sk-container-id-1 div.sk-estimator:hover label.sk-toggleable__label-arrow:before {color: black;}#sk-container-id-1 div.sk-toggleable__content {max-height: 0;max-width: 0;overflow: hidden;text-align: left;background-color: #f0f8ff;}#sk-container-id-1 div.sk-toggleable__content pre {margin: 0.2em;color: black;border-radius: 0.25em;background-color: #f0f8ff;}#sk-container-id-1 input.sk-toggleable__control:checked~div.sk-toggleable__content {max-height: 200px;max-width: 100%;overflow: auto;}#sk-container-id-1 input.sk-toggleable__control:checked~label.sk-toggleable__label-arrow:before {content: \"▾\";}#sk-container-id-1 div.sk-estimator input.sk-toggleable__control:checked~label.sk-toggleable__label {background-color: #d4ebff;}#sk-container-id-1 div.sk-label input.sk-toggleable__control:checked~label.sk-toggleable__label {background-color: #d4ebff;}#sk-container-id-1 input.sk-hidden--visually {border: 0;clip: rect(1px 1px 1px 1px);clip: rect(1px, 1px, 1px, 1px);height: 1px;margin: -1px;overflow: hidden;padding: 0;position: absolute;width: 1px;}#sk-container-id-1 div.sk-estimator {font-family: monospace;background-color: #f0f8ff;border: 1px dotted black;border-radius: 0.25em;box-sizing: border-box;margin-bottom: 0.5em;}#sk-container-id-1 div.sk-estimator:hover {background-color: #d4ebff;}#sk-container-id-1 div.sk-parallel-item::after {content: \"\";width: 100%;border-bottom: 1px solid gray;flex-grow: 1;}#sk-container-id-1 div.sk-label:hover label.sk-toggleable__label {background-color: #d4ebff;}#sk-container-id-1 div.sk-serial::before {content: \"\";position: absolute;border-left: 1px solid gray;box-sizing: border-box;top: 0;bottom: 0;left: 50%;z-index: 0;}#sk-container-id-1 div.sk-serial {display: flex;flex-direction: column;align-items: center;background-color: white;padding-right: 0.2em;padding-left: 0.2em;position: relative;}#sk-container-id-1 div.sk-item {position: relative;z-index: 1;}#sk-container-id-1 div.sk-parallel {display: flex;align-items: stretch;justify-content: center;background-color: white;position: relative;}#sk-container-id-1 div.sk-item::before, #sk-container-id-1 div.sk-parallel-item::before {content: \"\";position: absolute;border-left: 1px solid gray;box-sizing: border-box;top: 0;bottom: 0;left: 50%;z-index: -1;}#sk-container-id-1 div.sk-parallel-item {display: flex;flex-direction: column;z-index: 1;position: relative;background-color: white;}#sk-container-id-1 div.sk-parallel-item:first-child::after {align-self: flex-end;width: 50%;}#sk-container-id-1 div.sk-parallel-item:last-child::after {align-self: flex-start;width: 50%;}#sk-container-id-1 div.sk-parallel-item:only-child::after {width: 0;}#sk-container-id-1 div.sk-dashed-wrapped {border: 1px dashed gray;margin: 0 0.4em 0.5em 0.4em;box-sizing: border-box;padding-bottom: 0.4em;background-color: white;}#sk-container-id-1 div.sk-label label {font-family: monospace;font-weight: bold;display: inline-block;line-height: 1.2em;}#sk-container-id-1 div.sk-label-container {text-align: center;}#sk-container-id-1 div.sk-container {/* jupyter's `normalize.less` sets `[hidden] { display: none; }` but bootstrap.min.css set `[hidden] { display: none !important; }` so we also need the `!important` here to be able to override the default hidden behavior on the sphinx rendered scikit-learn.org. See: https://github.com/scikit-learn/scikit-learn/issues/21755 */display: inline-block !important;position: relative;}#sk-container-id-1 div.sk-text-repr-fallback {display: none;}</style><div id=\"sk-container-id-1\" class=\"sk-top-container\"><div class=\"sk-text-repr-fallback\"><pre>ColumnTransformer(transformers=[(&#x27;ohe&#x27;, OneHotEncoder(handle_unknown=&#x27;ignore&#x27;),\n",
       "                                 [&#x27;airline&#x27;, &#x27;departure&#x27;, &#x27;class&#x27;]),\n",
       "                                (&#x27;te&#x27;, TargetEncoder(),\n",
       "                                 [&#x27;source&#x27;, &#x27;destination&#x27;, &#x27;arrival&#x27;, &#x27;flight&#x27;,\n",
       "                                  &#x27;stops&#x27;]),\n",
       "                                (&#x27;ss&#x27;, StandardScaler(),\n",
       "                                 [&#x27;duration&#x27;, &#x27;days_left&#x27;])])</pre><b>In a Jupyter environment, please rerun this cell to show the HTML representation or trust the notebook. <br />On GitHub, the HTML representation is unable to render, please try loading this page with nbviewer.org.</b></div><div class=\"sk-container\" hidden><div class=\"sk-item sk-dashed-wrapped\"><div class=\"sk-label-container\"><div class=\"sk-label sk-toggleable\"><input class=\"sk-toggleable__control sk-hidden--visually\" id=\"sk-estimator-id-1\" type=\"checkbox\" ><label for=\"sk-estimator-id-1\" class=\"sk-toggleable__label sk-toggleable__label-arrow\">ColumnTransformer</label><div class=\"sk-toggleable__content\"><pre>ColumnTransformer(transformers=[(&#x27;ohe&#x27;, OneHotEncoder(handle_unknown=&#x27;ignore&#x27;),\n",
       "                                 [&#x27;airline&#x27;, &#x27;departure&#x27;, &#x27;class&#x27;]),\n",
       "                                (&#x27;te&#x27;, TargetEncoder(),\n",
       "                                 [&#x27;source&#x27;, &#x27;destination&#x27;, &#x27;arrival&#x27;, &#x27;flight&#x27;,\n",
       "                                  &#x27;stops&#x27;]),\n",
       "                                (&#x27;ss&#x27;, StandardScaler(),\n",
       "                                 [&#x27;duration&#x27;, &#x27;days_left&#x27;])])</pre></div></div></div><div class=\"sk-parallel\"><div class=\"sk-parallel-item\"><div class=\"sk-item\"><div class=\"sk-label-container\"><div class=\"sk-label sk-toggleable\"><input class=\"sk-toggleable__control sk-hidden--visually\" id=\"sk-estimator-id-2\" type=\"checkbox\" ><label for=\"sk-estimator-id-2\" class=\"sk-toggleable__label sk-toggleable__label-arrow\">ohe</label><div class=\"sk-toggleable__content\"><pre>[&#x27;airline&#x27;, &#x27;departure&#x27;, &#x27;class&#x27;]</pre></div></div></div><div class=\"sk-serial\"><div class=\"sk-item\"><div class=\"sk-estimator sk-toggleable\"><input class=\"sk-toggleable__control sk-hidden--visually\" id=\"sk-estimator-id-3\" type=\"checkbox\" ><label for=\"sk-estimator-id-3\" class=\"sk-toggleable__label sk-toggleable__label-arrow\">OneHotEncoder</label><div class=\"sk-toggleable__content\"><pre>OneHotEncoder(handle_unknown=&#x27;ignore&#x27;)</pre></div></div></div></div></div></div><div class=\"sk-parallel-item\"><div class=\"sk-item\"><div class=\"sk-label-container\"><div class=\"sk-label sk-toggleable\"><input class=\"sk-toggleable__control sk-hidden--visually\" id=\"sk-estimator-id-4\" type=\"checkbox\" ><label for=\"sk-estimator-id-4\" class=\"sk-toggleable__label sk-toggleable__label-arrow\">te</label><div class=\"sk-toggleable__content\"><pre>[&#x27;source&#x27;, &#x27;destination&#x27;, &#x27;arrival&#x27;, &#x27;flight&#x27;, &#x27;stops&#x27;]</pre></div></div></div><div class=\"sk-serial\"><div class=\"sk-item\"><div class=\"sk-estimator sk-toggleable\"><input class=\"sk-toggleable__control sk-hidden--visually\" id=\"sk-estimator-id-5\" type=\"checkbox\" ><label for=\"sk-estimator-id-5\" class=\"sk-toggleable__label sk-toggleable__label-arrow\">TargetEncoder</label><div class=\"sk-toggleable__content\"><pre>TargetEncoder()</pre></div></div></div></div></div></div><div class=\"sk-parallel-item\"><div class=\"sk-item\"><div class=\"sk-label-container\"><div class=\"sk-label sk-toggleable\"><input class=\"sk-toggleable__control sk-hidden--visually\" id=\"sk-estimator-id-6\" type=\"checkbox\" ><label for=\"sk-estimator-id-6\" class=\"sk-toggleable__label sk-toggleable__label-arrow\">ss</label><div class=\"sk-toggleable__content\"><pre>[&#x27;duration&#x27;, &#x27;days_left&#x27;]</pre></div></div></div><div class=\"sk-serial\"><div class=\"sk-item\"><div class=\"sk-estimator sk-toggleable\"><input class=\"sk-toggleable__control sk-hidden--visually\" id=\"sk-estimator-id-7\" type=\"checkbox\" ><label for=\"sk-estimator-id-7\" class=\"sk-toggleable__label sk-toggleable__label-arrow\">StandardScaler</label><div class=\"sk-toggleable__content\"><pre>StandardScaler()</pre></div></div></div></div></div></div></div></div></div></div>"
      ],
      "text/plain": [
       "ColumnTransformer(transformers=[('ohe', OneHotEncoder(handle_unknown='ignore'),\n",
       "                                 ['airline', 'departure', 'class']),\n",
       "                                ('te', TargetEncoder(),\n",
       "                                 ['source', 'destination', 'arrival', 'flight',\n",
       "                                  'stops']),\n",
       "                                ('ss', StandardScaler(),\n",
       "                                 ['duration', 'days_left'])])"
      ]
     },
     "execution_count": 25,
     "metadata": {},
     "output_type": "execute_result"
    }
   ],
   "source": [
    "from sklearn.preprocessing import OneHotEncoder, StandardScaler\n",
    "from category_encoders import TargetEncoder\n",
    "from sklearn.compose import ColumnTransformer\n",
    "from sklearn.pipeline import Pipeline\n",
    "\n",
    "low_cat  = ['airline', 'departure', 'class']\n",
    "high_cat = ['source', 'destination', 'arrival', 'flight', 'stops']\n",
    "num_cols = ['duration', 'days_left']\n",
    "\n",
    "pre_proc = ColumnTransformer([\n",
    "    ('ohe', OneHotEncoder(handle_unknown='ignore'), low_cat),\n",
    "    ('te', TargetEncoder(), high_cat),\n",
    "    ('ss', StandardScaler(), num_cols)\n",
    "])\n",
    "\n",
    "\n",
    "pre_proc.fit(X_train, y_train)"
   ]
  },
  {
   "cell_type": "markdown",
   "id": "2d9a40a2",
   "metadata": {
    "papermill": {
     "duration": 0.012733,
     "end_time": "2025-07-01T13:31:34.028943",
     "exception": false,
     "start_time": "2025-07-01T13:31:34.016210",
     "status": "completed"
    },
    "tags": []
   },
   "source": [
    "# Models\n",
    "\n",
    "1. Elastic Net\n",
    "2. Random Forest Regressor\n",
    "3. Gradient Boosting Regressor\n",
    "4. LightGBM Regressor\n",
    "5. CatBoost Regressor\n",
    "6. Support-Vector Regressor (SVR)\n",
    "7. Stacking Regressor"
   ]
  },
  {
   "cell_type": "code",
   "execution_count": 26,
   "id": "cbe51a0a",
   "metadata": {
    "execution": {
     "iopub.execute_input": "2025-07-01T13:31:34.056415Z",
     "iopub.status.busy": "2025-07-01T13:31:34.055917Z",
     "iopub.status.idle": "2025-07-01T13:36:35.487908Z",
     "shell.execute_reply": "2025-07-01T13:36:35.486941Z"
    },
    "papermill": {
     "duration": 301.460344,
     "end_time": "2025-07-01T13:36:35.502279",
     "exception": false,
     "start_time": "2025-07-01T13:31:34.041935",
     "status": "completed"
    },
    "tags": []
   },
   "outputs": [
    {
     "name": "stdout",
     "output_type": "stream",
     "text": [
      "\n",
      " Validation performance\n",
      "elastic_net   MAE: 5170.49   R²: 0.896\n",
      "random_forest  MAE: 1711.41   R²: 0.978\n",
      "gbrt          MAE: 2534.75   R²: 0.965\n",
      "lightgbm      MAE: 1996.22   R²: 0.977\n",
      "catboost      MAE: 2169.18   R²: 0.973\n",
      "svr           MAE: 15127.19   R²: -0.112\n",
      "stacking      MAE: 1726.55   R²: 0.978\n"
     ]
    }
   ],
   "source": [
    "from sklearn.pipeline import Pipeline\n",
    "from sklearn.linear_model import ElasticNet\n",
    "from sklearn.ensemble import RandomForestRegressor, GradientBoostingRegressor, StackingRegressor\n",
    "from sklearn.svm import SVR\n",
    "from lightgbm import LGBMRegressor\n",
    "from catboost import CatBoostRegressor\n",
    "from sklearn.metrics import mean_absolute_error, r2_score\n",
    "\n",
    "models = {\n",
    "    \"elastic_net\": ElasticNet(alpha=0.1, l1_ratio=0.5, random_state=0, max_iter=2000),\n",
    "    \"random_forest\": RandomForestRegressor(n_estimators=300, random_state=0, n_jobs=-1),\n",
    "    \"gbrt\": GradientBoostingRegressor(n_estimators=500, learning_rate=0.05, random_state=0),\n",
    "    \"lightgbm\": LGBMRegressor(n_estimators=600, learning_rate=0.05, random_state=0, verbosity=-1),\n",
    "    \"catboost\": CatBoostRegressor(iterations=800, depth=6, learning_rate=0.05,loss_function='RMSE', verbose=False, random_seed=0),\n",
    "    \"svr\": SVR(C=10, epsilon=0.2, kernel='rbf')\n",
    "}\n",
    "\n",
    "pipelines = {\n",
    "    name: Pipeline([('prep', pre_proc), ('est', mdl)])\n",
    "    for name, mdl in models.items()\n",
    "}\n",
    "\n",
    "stack = StackingRegressor(\n",
    "    estimators=[\n",
    "        ('rf',  models[\"random_forest\"]),\n",
    "        ('gbrt', models[\"gbrt\"]),\n",
    "        ('enet', models[\"elastic_net\"])\n",
    "    ],\n",
    "    final_estimator=GradientBoostingRegressor(random_state=0)\n",
    ")\n",
    "pipelines[\"stacking\"] = Pipeline([('prep', pre_proc), ('est', stack)])\n",
    "\n",
    "scores = {}\n",
    "for name, pipe in pipelines.items():\n",
    "    pipe.fit(X_train, y_train)\n",
    "    preds = pipe.predict(X_val)\n",
    "    scores[name] = {\n",
    "        \"MAE\": mean_absolute_error(y_val, preds),\n",
    "        \"R²\":  r2_score(y_val, preds)\n",
    "    }\n",
    "\n",
    "print(\"\\n Validation performance\")\n",
    "for name, m in scores.items():\n",
    "    print(f\"{name:12s}  MAE: {m['MAE']:.2f}   R²: {m['R²']:.3f}\")"
   ]
  },
  {
   "cell_type": "markdown",
   "id": "bd6645a1",
   "metadata": {
    "papermill": {
     "duration": 0.012924,
     "end_time": "2025-07-01T13:36:35.528292",
     "exception": false,
     "start_time": "2025-07-01T13:36:35.515368",
     "status": "completed"
    },
    "tags": []
   },
   "source": [
    "# Hyperparameter Tuning"
   ]
  },
  {
   "cell_type": "code",
   "execution_count": 27,
   "id": "b4fa5376",
   "metadata": {
    "execution": {
     "iopub.execute_input": "2025-07-01T13:36:35.555938Z",
     "iopub.status.busy": "2025-07-01T13:36:35.555620Z",
     "iopub.status.idle": "2025-07-01T13:47:31.559135Z",
     "shell.execute_reply": "2025-07-01T13:47:31.558369Z"
    },
    "papermill": {
     "duration": 656.018909,
     "end_time": "2025-07-01T13:47:31.560576",
     "exception": false,
     "start_time": "2025-07-01T13:36:35.541667",
     "status": "completed"
    },
    "tags": []
   },
   "outputs": [
    {
     "name": "stdout",
     "output_type": "stream",
     "text": [
      "🔍  lightgbm\n",
      "   best MAE: 1938.64\n",
      "🔍  random_forest\n",
      "   best MAE: 1852.32\n",
      "🔍  elastic_net\n",
      "   best MAE: 4614.94\n"
     ]
    }
   ],
   "source": [
    "from sklearn.model_selection import RandomizedSearchCV, KFold\n",
    "from sklearn.pipeline import Pipeline\n",
    "from sklearn.metrics import make_scorer, mean_absolute_error\n",
    "import numpy as np\n",
    "from lightgbm import LGBMRegressor\n",
    "from sklearn.ensemble import RandomForestRegressor\n",
    "from sklearn.linear_model import ElasticNet\n",
    "\n",
    "mae = make_scorer(mean_absolute_error, greater_is_better=False)\n",
    "cv  = KFold(n_splits=3, shuffle=True, random_state=42)   # 3-fold\n",
    "\n",
    "search_space = {\n",
    "    \"lightgbm\": (\n",
    "        Pipeline([('prep', pre_proc),\n",
    "                  ('est',  LGBMRegressor(random_state=0,force_row_wise=True, n_jobs=1, verbosity=-1))]),\n",
    "        {                       # narrow ranges\n",
    "            \"est__n_estimators\":  np.arange(400, 900, 200),\n",
    "            \"est__learning_rate\": [0.05, 0.1],\n",
    "            \"est__num_leaves\":    [31, 63, 127]\n",
    "        }\n",
    "    ),\n",
    "    \"random_forest\": (\n",
    "        Pipeline([('prep', pre_proc),\n",
    "                  ('est',  RandomForestRegressor(random_state=0,\n",
    "                                                 n_jobs=1))]),\n",
    "        {\n",
    "            \"est__n_estimators\": [300, 600],\n",
    "            \"est__max_depth\":    [None, 20]\n",
    "        }\n",
    "    ),\n",
    "    \"elastic_net\": (\n",
    "        Pipeline([('prep', pre_proc),\n",
    "                  ('est',  ElasticNet(random_state=0, max_iter=5000))]),\n",
    "        {\n",
    "            \"est__alpha\":    [0.01, 0.1, 1.0],\n",
    "            \"est__l1_ratio\": [0.2, 0.5, 0.8]\n",
    "        }\n",
    "    )\n",
    "}\n",
    "\n",
    "best_pipes = {}\n",
    "for name, (pipe, dist) in search_space.items():\n",
    "    print(f\"🔍  {name}\")\n",
    "    rs = RandomizedSearchCV(\n",
    "        pipe, dist,\n",
    "        n_iter=10,\n",
    "        scoring=mae,\n",
    "        cv=cv,\n",
    "        random_state=0,\n",
    "        verbose=0\n",
    "    )\n",
    "    rs.fit(X_train, y_train)\n",
    "    print(f\"   best MAE: {-rs.best_score_:.2f}\")\n",
    "    best_pipes[name] = rs.best_estimator_\n"
   ]
  },
  {
   "cell_type": "code",
   "execution_count": 28,
   "id": "1de2c199",
   "metadata": {
    "execution": {
     "iopub.execute_input": "2025-07-01T13:47:31.604115Z",
     "iopub.status.busy": "2025-07-01T13:47:31.603547Z",
     "iopub.status.idle": "2025-07-01T13:49:10.776825Z",
     "shell.execute_reply": "2025-07-01T13:49:10.775907Z"
    },
    "papermill": {
     "duration": 99.211044,
     "end_time": "2025-07-01T13:49:10.792455",
     "exception": false,
     "start_time": "2025-07-01T13:47:31.581411",
     "status": "completed"
    },
    "tags": []
   },
   "outputs": [
    {
     "data": {
      "text/html": [
       "<style>#sk-container-id-2 {color: black;background-color: white;}#sk-container-id-2 pre{padding: 0;}#sk-container-id-2 div.sk-toggleable {background-color: white;}#sk-container-id-2 label.sk-toggleable__label {cursor: pointer;display: block;width: 100%;margin-bottom: 0;padding: 0.3em;box-sizing: border-box;text-align: center;}#sk-container-id-2 label.sk-toggleable__label-arrow:before {content: \"▸\";float: left;margin-right: 0.25em;color: #696969;}#sk-container-id-2 label.sk-toggleable__label-arrow:hover:before {color: black;}#sk-container-id-2 div.sk-estimator:hover label.sk-toggleable__label-arrow:before {color: black;}#sk-container-id-2 div.sk-toggleable__content {max-height: 0;max-width: 0;overflow: hidden;text-align: left;background-color: #f0f8ff;}#sk-container-id-2 div.sk-toggleable__content pre {margin: 0.2em;color: black;border-radius: 0.25em;background-color: #f0f8ff;}#sk-container-id-2 input.sk-toggleable__control:checked~div.sk-toggleable__content {max-height: 200px;max-width: 100%;overflow: auto;}#sk-container-id-2 input.sk-toggleable__control:checked~label.sk-toggleable__label-arrow:before {content: \"▾\";}#sk-container-id-2 div.sk-estimator input.sk-toggleable__control:checked~label.sk-toggleable__label {background-color: #d4ebff;}#sk-container-id-2 div.sk-label input.sk-toggleable__control:checked~label.sk-toggleable__label {background-color: #d4ebff;}#sk-container-id-2 input.sk-hidden--visually {border: 0;clip: rect(1px 1px 1px 1px);clip: rect(1px, 1px, 1px, 1px);height: 1px;margin: -1px;overflow: hidden;padding: 0;position: absolute;width: 1px;}#sk-container-id-2 div.sk-estimator {font-family: monospace;background-color: #f0f8ff;border: 1px dotted black;border-radius: 0.25em;box-sizing: border-box;margin-bottom: 0.5em;}#sk-container-id-2 div.sk-estimator:hover {background-color: #d4ebff;}#sk-container-id-2 div.sk-parallel-item::after {content: \"\";width: 100%;border-bottom: 1px solid gray;flex-grow: 1;}#sk-container-id-2 div.sk-label:hover label.sk-toggleable__label {background-color: #d4ebff;}#sk-container-id-2 div.sk-serial::before {content: \"\";position: absolute;border-left: 1px solid gray;box-sizing: border-box;top: 0;bottom: 0;left: 50%;z-index: 0;}#sk-container-id-2 div.sk-serial {display: flex;flex-direction: column;align-items: center;background-color: white;padding-right: 0.2em;padding-left: 0.2em;position: relative;}#sk-container-id-2 div.sk-item {position: relative;z-index: 1;}#sk-container-id-2 div.sk-parallel {display: flex;align-items: stretch;justify-content: center;background-color: white;position: relative;}#sk-container-id-2 div.sk-item::before, #sk-container-id-2 div.sk-parallel-item::before {content: \"\";position: absolute;border-left: 1px solid gray;box-sizing: border-box;top: 0;bottom: 0;left: 50%;z-index: -1;}#sk-container-id-2 div.sk-parallel-item {display: flex;flex-direction: column;z-index: 1;position: relative;background-color: white;}#sk-container-id-2 div.sk-parallel-item:first-child::after {align-self: flex-end;width: 50%;}#sk-container-id-2 div.sk-parallel-item:last-child::after {align-self: flex-start;width: 50%;}#sk-container-id-2 div.sk-parallel-item:only-child::after {width: 0;}#sk-container-id-2 div.sk-dashed-wrapped {border: 1px dashed gray;margin: 0 0.4em 0.5em 0.4em;box-sizing: border-box;padding-bottom: 0.4em;background-color: white;}#sk-container-id-2 div.sk-label label {font-family: monospace;font-weight: bold;display: inline-block;line-height: 1.2em;}#sk-container-id-2 div.sk-label-container {text-align: center;}#sk-container-id-2 div.sk-container {/* jupyter's `normalize.less` sets `[hidden] { display: none; }` but bootstrap.min.css set `[hidden] { display: none !important; }` so we also need the `!important` here to be able to override the default hidden behavior on the sphinx rendered scikit-learn.org. See: https://github.com/scikit-learn/scikit-learn/issues/21755 */display: inline-block !important;position: relative;}#sk-container-id-2 div.sk-text-repr-fallback {display: none;}</style><div id=\"sk-container-id-2\" class=\"sk-top-container\"><div class=\"sk-text-repr-fallback\"><pre>Pipeline(steps=[(&#x27;prep&#x27;,\n",
       "                 ColumnTransformer(transformers=[(&#x27;ohe&#x27;,\n",
       "                                                  OneHotEncoder(handle_unknown=&#x27;ignore&#x27;),\n",
       "                                                  [&#x27;airline&#x27;, &#x27;departure&#x27;,\n",
       "                                                   &#x27;class&#x27;]),\n",
       "                                                 (&#x27;te&#x27;, TargetEncoder(),\n",
       "                                                  [&#x27;source&#x27;, &#x27;destination&#x27;,\n",
       "                                                   &#x27;arrival&#x27;, &#x27;flight&#x27;,\n",
       "                                                   &#x27;stops&#x27;]),\n",
       "                                                 (&#x27;ss&#x27;, StandardScaler(),\n",
       "                                                  [&#x27;duration&#x27;, &#x27;days_left&#x27;])])),\n",
       "                (&#x27;est&#x27;,\n",
       "                 RandomForestRegressor(n_estimators=600, n_jobs=1,\n",
       "                                       random_state=0))])</pre><b>In a Jupyter environment, please rerun this cell to show the HTML representation or trust the notebook. <br />On GitHub, the HTML representation is unable to render, please try loading this page with nbviewer.org.</b></div><div class=\"sk-container\" hidden><div class=\"sk-item sk-dashed-wrapped\"><div class=\"sk-label-container\"><div class=\"sk-label sk-toggleable\"><input class=\"sk-toggleable__control sk-hidden--visually\" id=\"sk-estimator-id-8\" type=\"checkbox\" ><label for=\"sk-estimator-id-8\" class=\"sk-toggleable__label sk-toggleable__label-arrow\">Pipeline</label><div class=\"sk-toggleable__content\"><pre>Pipeline(steps=[(&#x27;prep&#x27;,\n",
       "                 ColumnTransformer(transformers=[(&#x27;ohe&#x27;,\n",
       "                                                  OneHotEncoder(handle_unknown=&#x27;ignore&#x27;),\n",
       "                                                  [&#x27;airline&#x27;, &#x27;departure&#x27;,\n",
       "                                                   &#x27;class&#x27;]),\n",
       "                                                 (&#x27;te&#x27;, TargetEncoder(),\n",
       "                                                  [&#x27;source&#x27;, &#x27;destination&#x27;,\n",
       "                                                   &#x27;arrival&#x27;, &#x27;flight&#x27;,\n",
       "                                                   &#x27;stops&#x27;]),\n",
       "                                                 (&#x27;ss&#x27;, StandardScaler(),\n",
       "                                                  [&#x27;duration&#x27;, &#x27;days_left&#x27;])])),\n",
       "                (&#x27;est&#x27;,\n",
       "                 RandomForestRegressor(n_estimators=600, n_jobs=1,\n",
       "                                       random_state=0))])</pre></div></div></div><div class=\"sk-serial\"><div class=\"sk-item sk-dashed-wrapped\"><div class=\"sk-label-container\"><div class=\"sk-label sk-toggleable\"><input class=\"sk-toggleable__control sk-hidden--visually\" id=\"sk-estimator-id-9\" type=\"checkbox\" ><label for=\"sk-estimator-id-9\" class=\"sk-toggleable__label sk-toggleable__label-arrow\">prep: ColumnTransformer</label><div class=\"sk-toggleable__content\"><pre>ColumnTransformer(transformers=[(&#x27;ohe&#x27;, OneHotEncoder(handle_unknown=&#x27;ignore&#x27;),\n",
       "                                 [&#x27;airline&#x27;, &#x27;departure&#x27;, &#x27;class&#x27;]),\n",
       "                                (&#x27;te&#x27;, TargetEncoder(),\n",
       "                                 [&#x27;source&#x27;, &#x27;destination&#x27;, &#x27;arrival&#x27;, &#x27;flight&#x27;,\n",
       "                                  &#x27;stops&#x27;]),\n",
       "                                (&#x27;ss&#x27;, StandardScaler(),\n",
       "                                 [&#x27;duration&#x27;, &#x27;days_left&#x27;])])</pre></div></div></div><div class=\"sk-parallel\"><div class=\"sk-parallel-item\"><div class=\"sk-item\"><div class=\"sk-label-container\"><div class=\"sk-label sk-toggleable\"><input class=\"sk-toggleable__control sk-hidden--visually\" id=\"sk-estimator-id-10\" type=\"checkbox\" ><label for=\"sk-estimator-id-10\" class=\"sk-toggleable__label sk-toggleable__label-arrow\">ohe</label><div class=\"sk-toggleable__content\"><pre>[&#x27;airline&#x27;, &#x27;departure&#x27;, &#x27;class&#x27;]</pre></div></div></div><div class=\"sk-serial\"><div class=\"sk-item\"><div class=\"sk-estimator sk-toggleable\"><input class=\"sk-toggleable__control sk-hidden--visually\" id=\"sk-estimator-id-11\" type=\"checkbox\" ><label for=\"sk-estimator-id-11\" class=\"sk-toggleable__label sk-toggleable__label-arrow\">OneHotEncoder</label><div class=\"sk-toggleable__content\"><pre>OneHotEncoder(handle_unknown=&#x27;ignore&#x27;)</pre></div></div></div></div></div></div><div class=\"sk-parallel-item\"><div class=\"sk-item\"><div class=\"sk-label-container\"><div class=\"sk-label sk-toggleable\"><input class=\"sk-toggleable__control sk-hidden--visually\" id=\"sk-estimator-id-12\" type=\"checkbox\" ><label for=\"sk-estimator-id-12\" class=\"sk-toggleable__label sk-toggleable__label-arrow\">te</label><div class=\"sk-toggleable__content\"><pre>[&#x27;source&#x27;, &#x27;destination&#x27;, &#x27;arrival&#x27;, &#x27;flight&#x27;, &#x27;stops&#x27;]</pre></div></div></div><div class=\"sk-serial\"><div class=\"sk-item\"><div class=\"sk-estimator sk-toggleable\"><input class=\"sk-toggleable__control sk-hidden--visually\" id=\"sk-estimator-id-13\" type=\"checkbox\" ><label for=\"sk-estimator-id-13\" class=\"sk-toggleable__label sk-toggleable__label-arrow\">TargetEncoder</label><div class=\"sk-toggleable__content\"><pre>TargetEncoder()</pre></div></div></div></div></div></div><div class=\"sk-parallel-item\"><div class=\"sk-item\"><div class=\"sk-label-container\"><div class=\"sk-label sk-toggleable\"><input class=\"sk-toggleable__control sk-hidden--visually\" id=\"sk-estimator-id-14\" type=\"checkbox\" ><label for=\"sk-estimator-id-14\" class=\"sk-toggleable__label sk-toggleable__label-arrow\">ss</label><div class=\"sk-toggleable__content\"><pre>[&#x27;duration&#x27;, &#x27;days_left&#x27;]</pre></div></div></div><div class=\"sk-serial\"><div class=\"sk-item\"><div class=\"sk-estimator sk-toggleable\"><input class=\"sk-toggleable__control sk-hidden--visually\" id=\"sk-estimator-id-15\" type=\"checkbox\" ><label for=\"sk-estimator-id-15\" class=\"sk-toggleable__label sk-toggleable__label-arrow\">StandardScaler</label><div class=\"sk-toggleable__content\"><pre>StandardScaler()</pre></div></div></div></div></div></div></div></div><div class=\"sk-item\"><div class=\"sk-estimator sk-toggleable\"><input class=\"sk-toggleable__control sk-hidden--visually\" id=\"sk-estimator-id-16\" type=\"checkbox\" ><label for=\"sk-estimator-id-16\" class=\"sk-toggleable__label sk-toggleable__label-arrow\">RandomForestRegressor</label><div class=\"sk-toggleable__content\"><pre>RandomForestRegressor(n_estimators=600, n_jobs=1, random_state=0)</pre></div></div></div></div></div></div></div>"
      ],
      "text/plain": [
       "Pipeline(steps=[('prep',\n",
       "                 ColumnTransformer(transformers=[('ohe',\n",
       "                                                  OneHotEncoder(handle_unknown='ignore'),\n",
       "                                                  ['airline', 'departure',\n",
       "                                                   'class']),\n",
       "                                                 ('te', TargetEncoder(),\n",
       "                                                  ['source', 'destination',\n",
       "                                                   'arrival', 'flight',\n",
       "                                                   'stops']),\n",
       "                                                 ('ss', StandardScaler(),\n",
       "                                                  ['duration', 'days_left'])])),\n",
       "                ('est',\n",
       "                 RandomForestRegressor(n_estimators=600, n_jobs=1,\n",
       "                                       random_state=0))])"
      ]
     },
     "execution_count": 28,
     "metadata": {},
     "output_type": "execute_result"
    }
   ],
   "source": [
    "# refitting the best model\n",
    "\n",
    "best_pipe = best_pipes['random_forest']\n",
    "best_pipe.fit(X_full, y_full)"
   ]
  },
  {
   "cell_type": "code",
   "execution_count": 29,
   "id": "dbcb96b2",
   "metadata": {
    "execution": {
     "iopub.execute_input": "2025-07-01T13:49:10.821242Z",
     "iopub.status.busy": "2025-07-01T13:49:10.820925Z",
     "iopub.status.idle": "2025-07-01T13:49:11.000410Z",
     "shell.execute_reply": "2025-07-01T13:49:10.999523Z"
    },
    "papermill": {
     "duration": 0.195913,
     "end_time": "2025-07-01T13:49:11.001997",
     "exception": false,
     "start_time": "2025-07-01T13:49:10.806084",
     "status": "completed"
    },
    "tags": []
   },
   "outputs": [
    {
     "data": {
      "text/plain": [
       "(array([0, 1, 2, 3, 4, 5, 6]),\n",
       " [Text(0, 0, 'elastic_net'),\n",
       "  Text(1, 0, 'random_forest'),\n",
       "  Text(2, 0, 'gbrt'),\n",
       "  Text(3, 0, 'lightgbm'),\n",
       "  Text(4, 0, 'catboost'),\n",
       "  Text(5, 0, 'svr'),\n",
       "  Text(6, 0, 'stacking')])"
      ]
     },
     "execution_count": 29,
     "metadata": {},
     "output_type": "execute_result"
    },
    {
     "data": {
      "image/png": "[encoded data removed]",
      "text/plain": [
       "<Figure size 640x480 with 1 Axes>"
      ]
     },
     "metadata": {},
     "output_type": "display_data"
    }
   ],
   "source": [
    "results = {\n",
    "    'elastic_net': 0.896,\n",
    "    'random_forest': 0.978,\n",
    "    'gbrt': 0.965,\n",
    "    'lightgbm' : 0.977,\n",
    "    'catboost': 0.973,\n",
    "    'svr': -0.112,\n",
    "    'stacking': 0.978\n",
    "}\n",
    "\n",
    "sns.barplot(x=list(results.keys()), y=list(results.values()))\n",
    "plt.ylabel(\"R² Score\")\n",
    "plt.xticks(rotation=45)"
   ]
  },
  {
   "cell_type": "code",
   "execution_count": 30,
   "id": "60e588c0",
   "metadata": {
    "execution": {
     "iopub.execute_input": "2025-07-01T13:49:11.031426Z",
     "iopub.status.busy": "2025-07-01T13:49:11.031070Z",
     "iopub.status.idle": "2025-07-01T13:49:12.932593Z",
     "shell.execute_reply": "2025-07-01T13:49:12.931640Z"
    },
    "papermill": {
     "duration": 1.917999,
     "end_time": "2025-07-01T13:49:12.934359",
     "exception": false,
     "start_time": "2025-07-01T13:49:11.016360",
     "status": "completed"
    },
    "tags": []
   },
   "outputs": [],
   "source": [
    "preds = best_pipe.predict(X_test)\n",
    "\n",
    "submission = pd.DataFrame({'id': test['id'], 'price': preds})\n",
    "submission.to_csv('submission.csv', index=False)"
   ]
  }
 ],
 "metadata": {
  "kaggle": {
   "accelerator": "none",
   "dataSources": [
    {
     "databundleVersionId": 12770423,
     "sourceId": 105665,
     "sourceType": "competition"
    }
   ],
   "dockerImageVersionId": 31040,
   "isGpuEnabled": false,
   "isInternetEnabled": true,
   "language": "python",
   "sourceType": "notebook"
  },
  "kernelspec": {
   "display_name": "Python 3",
   "language": "python",
   "name": "python3"
  },
  "language_info": {
   "codemirror_mode": {
    "name": "ipython",
    "version": 3
   },
   "file_extension": ".py",
   "mimetype": "text/x-python",
   "name": "python",
   "nbconvert_exporter": "python",
   "pygments_lexer": "ipython3",
   "version": "3.11.11"
  },
  "papermill": {
   "default_parameters": {},
   "duration": 1072.253816,
   "end_time": "2025-07-01T13:49:14.374016",
   "environment_variables": {},
   "exception": null,
   "input_path": "__notebook__.ipynb",
   "output_path": "__notebook__.ipynb",
   "parameters": {},
   "start_time": "2025-07-01T13:31:22.120200",
   "version": "2.6.0"
  }
 },
 "nbformat": 4,
 "nbformat_minor": 5
}
